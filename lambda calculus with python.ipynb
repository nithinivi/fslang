{
 "cells": [
  {
   "cell_type": "markdown",
   "id": "f3edbef1",
   "metadata": {},
   "source": [
    "#  Understanding Lambda Calculus"
   ]
  },
  {
   "cell_type": "markdown",
   "id": "5c9d7233",
   "metadata": {},
   "source": [
    "what if function are anly allowed in this universe ,  specifically single paramter functions "
   ]
  },
  {
   "cell_type": "code",
   "execution_count": 1,
   "id": "57166d56",
   "metadata": {},
   "outputs": [],
   "source": [
    "def f(x):\n",
    "    return x \n",
    "\n",
    "def f(x):\n",
    "    return x(x) \n",
    "\n",
    "def f(x):\n",
    "    def g(y):\n",
    "        return x(y)\n",
    "    return g\n"
   ]
  },
  {
   "cell_type": "markdown",
   "id": "b7629ad3",
   "metadata": {},
   "source": [
    "## how to model swtich "
   ]
  },
  {
   "cell_type": "code",
   "execution_count": 2,
   "id": "5e6c01e8",
   "metadata": {},
   "outputs": [],
   "source": [
    "def LEFT(a):\n",
    "    def f(b):\n",
    "        return a\n",
    "    return f\n",
    "\n",
    "def RIGHT(a):\n",
    "    def f(b):\n",
    "        return b\n",
    "    return f"
   ]
  },
  {
   "cell_type": "code",
   "execution_count": 3,
   "id": "04a4d3a6",
   "metadata": {},
   "outputs": [
    {
     "data": {
      "text/plain": [
       "'5v'"
      ]
     },
     "execution_count": 3,
     "metadata": {},
     "output_type": "execute_result"
    }
   ],
   "source": [
    "LEFT('5v')('gnd')"
   ]
  },
  {
   "cell_type": "code",
   "execution_count": 4,
   "id": "afd9c04e",
   "metadata": {},
   "outputs": [
    {
     "data": {
      "text/plain": [
       "'gnd'"
      ]
     },
     "execution_count": 4,
     "metadata": {},
     "output_type": "execute_result"
    }
   ],
   "source": [
    "RIGHT('5v')('gnd')"
   ]
  },
  {
   "cell_type": "markdown",
   "id": "79fdf6f5",
   "metadata": {},
   "source": [
    "this a behaviour, not the values "
   ]
  },
  {
   "cell_type": "markdown",
   "id": "8c6a4b6d",
   "metadata": {},
   "source": [
    " Booleans"
   ]
  },
  {
   "cell_type": "code",
   "execution_count": 243,
   "id": "f0f310eb",
   "metadata": {},
   "outputs": [],
   "source": [
    "TRUE = lambda x : lambda y : x"
   ]
  },
  {
   "cell_type": "code",
   "execution_count": 246,
   "id": "8e35f224",
   "metadata": {},
   "outputs": [],
   "source": [
    "FALSE = lambda x : lambda y : y"
   ]
  },
  {
   "cell_type": "code",
   "execution_count": 247,
   "id": "d29c0c02",
   "metadata": {},
   "outputs": [
    {
     "data": {
      "text/plain": [
       "'5v'"
      ]
     },
     "execution_count": 247,
     "metadata": {},
     "output_type": "execute_result"
    }
   ],
   "source": [
    "TRUE('5v')('gnd')"
   ]
  },
  {
   "cell_type": "code",
   "execution_count": 248,
   "id": "5bca1214",
   "metadata": {},
   "outputs": [
    {
     "data": {
      "text/plain": [
       "'gnd'"
      ]
     },
     "execution_count": 248,
     "metadata": {},
     "output_type": "execute_result"
    }
   ],
   "source": [
    "FALSE('5v')('gnd')"
   ]
  },
  {
   "cell_type": "markdown",
   "id": "0f2c2a8c",
   "metadata": {},
   "source": [
    "## Boolean Operators"
   ]
  },
  {
   "cell_type": "code",
   "execution_count": 9,
   "id": "b34f937c",
   "metadata": {},
   "outputs": [],
   "source": [
    "def NOT(x):\n",
    "    return x(FALSE)(TRUE)"
   ]
  },
  {
   "cell_type": "code",
   "execution_count": 10,
   "id": "4c8e6638",
   "metadata": {},
   "outputs": [],
   "source": [
    "assert NOT(TRUE) is FALSE \n",
    "assert NOT(FALSE) is TRUE"
   ]
  },
  {
   "cell_type": "code",
   "execution_count": 11,
   "id": "fa635e0d",
   "metadata": {},
   "outputs": [
    {
     "data": {
      "text/plain": [
       "<function __main__.FALSE(x)>"
      ]
     },
     "execution_count": 11,
     "metadata": {},
     "output_type": "execute_result"
    }
   ],
   "source": [
    "NOT(TRUE)"
   ]
  },
  {
   "cell_type": "code",
   "execution_count": 12,
   "id": "f21f5371",
   "metadata": {},
   "outputs": [
    {
     "data": {
      "text/plain": [
       "<function __main__.TRUE(x)>"
      ]
     },
     "execution_count": 12,
     "metadata": {},
     "output_type": "execute_result"
    }
   ],
   "source": [
    "NOT(FALSE)"
   ]
  },
  {
   "cell_type": "code",
   "execution_count": 13,
   "id": "7a591589",
   "metadata": {},
   "outputs": [],
   "source": [
    "def AND(x):\n",
    "    return lambda y : x(y)(x)\n",
    "\n"
   ]
  },
  {
   "cell_type": "code",
   "execution_count": 14,
   "id": "a4330f28",
   "metadata": {},
   "outputs": [
    {
     "data": {
      "text/plain": [
       "<function __main__.TRUE(x)>"
      ]
     },
     "execution_count": 14,
     "metadata": {},
     "output_type": "execute_result"
    }
   ],
   "source": [
    "AND(TRUE)(TRUE)"
   ]
  },
  {
   "cell_type": "code",
   "execution_count": 15,
   "id": "912a54e0",
   "metadata": {},
   "outputs": [
    {
     "data": {
      "text/plain": [
       "<function __main__.FALSE(x)>"
      ]
     },
     "execution_count": 15,
     "metadata": {},
     "output_type": "execute_result"
    }
   ],
   "source": [
    "AND(TRUE)(FALSE)"
   ]
  },
  {
   "cell_type": "code",
   "execution_count": 16,
   "id": "9756568a",
   "metadata": {},
   "outputs": [
    {
     "data": {
      "text/plain": [
       "<function __main__.FALSE(x)>"
      ]
     },
     "execution_count": 16,
     "metadata": {},
     "output_type": "execute_result"
    }
   ],
   "source": [
    "AND(FALSE)(TRUE)"
   ]
  },
  {
   "cell_type": "code",
   "execution_count": 17,
   "id": "b33d809b",
   "metadata": {},
   "outputs": [
    {
     "data": {
      "text/plain": [
       "<function __main__.FALSE(x)>"
      ]
     },
     "execution_count": 17,
     "metadata": {},
     "output_type": "execute_result"
    }
   ],
   "source": [
    "AND(FALSE)(FALSE)"
   ]
  },
  {
   "cell_type": "code",
   "execution_count": 18,
   "id": "71735a39",
   "metadata": {},
   "outputs": [
    {
     "data": {
      "text/plain": [
       "True"
      ]
     },
     "execution_count": 18,
     "metadata": {},
     "output_type": "execute_result"
    }
   ],
   "source": [
    "True or False "
   ]
  },
  {
   "cell_type": "code",
   "execution_count": 19,
   "id": "24abed3e",
   "metadata": {},
   "outputs": [
    {
     "data": {
      "text/plain": [
       "True"
      ]
     },
     "execution_count": 19,
     "metadata": {},
     "output_type": "execute_result"
    }
   ],
   "source": [
    "False or True"
   ]
  },
  {
   "cell_type": "code",
   "execution_count": 20,
   "id": "9fd71d21",
   "metadata": {},
   "outputs": [],
   "source": [
    "\n",
    "\n",
    "def OR(x):\n",
    "    return lambda y : x(x)(y)"
   ]
  },
  {
   "cell_type": "code",
   "execution_count": 21,
   "id": "fb9ff6bb",
   "metadata": {
    "scrolled": true
   },
   "outputs": [
    {
     "data": {
      "text/plain": [
       "<function __main__.TRUE(x)>"
      ]
     },
     "execution_count": 21,
     "metadata": {},
     "output_type": "execute_result"
    }
   ],
   "source": [
    "OR(TRUE)(TRUE)"
   ]
  },
  {
   "cell_type": "code",
   "execution_count": 22,
   "id": "242736cd",
   "metadata": {},
   "outputs": [
    {
     "data": {
      "text/plain": [
       "<function __main__.TRUE(x)>"
      ]
     },
     "execution_count": 22,
     "metadata": {},
     "output_type": "execute_result"
    }
   ],
   "source": [
    "OR(TRUE)(FALSE)"
   ]
  },
  {
   "cell_type": "code",
   "execution_count": 23,
   "id": "3b2f4549",
   "metadata": {},
   "outputs": [
    {
     "data": {
      "text/plain": [
       "<function __main__.TRUE(x)>"
      ]
     },
     "execution_count": 23,
     "metadata": {},
     "output_type": "execute_result"
    }
   ],
   "source": [
    "OR(FALSE)(TRUE)"
   ]
  },
  {
   "cell_type": "code",
   "execution_count": 24,
   "id": "374d7fdc",
   "metadata": {},
   "outputs": [
    {
     "data": {
      "text/plain": [
       "<function __main__.FALSE(x)>"
      ]
     },
     "execution_count": 24,
     "metadata": {},
     "output_type": "execute_result"
    }
   ],
   "source": [
    "OR(FALSE)(FALSE)"
   ]
  },
  {
   "cell_type": "markdown",
   "id": "e2dc294f",
   "metadata": {},
   "source": [
    "# Number | Church Numerals "
   ]
  },
  {
   "cell_type": "code",
   "execution_count": 84,
   "id": "32bca41b",
   "metadata": {},
   "outputs": [],
   "source": [
    "\n",
    "ZERO = lambda f : lambda x : x\n",
    "ONE  = lambda f : lambda x : f(x)\n",
    "TWO  = lambda f : lambda x : f(f(x))\n",
    "THREE  = lambda f : lambda x : f(f(f(x)))\n",
    "FOUR  = lambda f : lambda x : f(f(f(f(x))))\n"
   ]
  },
  {
   "cell_type": "code",
   "execution_count": 88,
   "id": "9c182222",
   "metadata": {},
   "outputs": [],
   "source": [
    "f = lambda  x:  '*' + x"
   ]
  },
  {
   "cell_type": "code",
   "execution_count": 89,
   "id": "70bcfdca",
   "metadata": {},
   "outputs": [
    {
     "data": {
      "text/plain": [
       "'***'"
      ]
     },
     "execution_count": 89,
     "metadata": {},
     "output_type": "execute_result"
    }
   ],
   "source": [
    "THREE(f)(\"\")"
   ]
  },
  {
   "cell_type": "code",
   "execution_count": 77,
   "id": "b74ee27a",
   "metadata": {},
   "outputs": [],
   "source": [
    "incr = lambda x : x + 1"
   ]
  },
  {
   "cell_type": "code",
   "execution_count": 42,
   "id": "50112478",
   "metadata": {},
   "outputs": [
    {
     "data": {
      "text/plain": [
       "<function __main__.<lambda>.<locals>.<lambda>(x)>"
      ]
     },
     "execution_count": 42,
     "metadata": {},
     "output_type": "execute_result"
    }
   ],
   "source": [
    "THREE(FOUR)"
   ]
  },
  {
   "cell_type": "code",
   "execution_count": 133,
   "id": "0dd948e6",
   "metadata": {},
   "outputs": [
    {
     "data": {
      "text/plain": [
       "64"
      ]
     },
     "execution_count": 133,
     "metadata": {},
     "output_type": "execute_result"
    }
   ],
   "source": [
    "THREE(FOUR)(incr)(0)"
   ]
  },
  {
   "cell_type": "code",
   "execution_count": 41,
   "id": "93feb811",
   "metadata": {},
   "outputs": [
    {
     "data": {
      "text/plain": [
       "64"
      ]
     },
     "execution_count": 41,
     "metadata": {},
     "output_type": "execute_result"
    }
   ],
   "source": [
    "4**3"
   ]
  },
  {
   "cell_type": "markdown",
   "id": "1cd567b3",
   "metadata": {},
   "source": [
    "Implementation of ZERO and FALSE are the same in lambda calculus Why ?"
   ]
  },
  {
   "cell_type": "code",
   "execution_count": 134,
   "id": "47f6300b",
   "metadata": {},
   "outputs": [],
   "source": [
    "\n",
    "SUCC = lambda n : lambda f : lambda x: f(n(f)(x))"
   ]
  },
  {
   "cell_type": "code",
   "execution_count": 138,
   "id": "7dfd0a20",
   "metadata": {},
   "outputs": [
    {
     "data": {
      "text/plain": [
       "<function __main__.<lambda>.<locals>.<lambda>(f)>"
      ]
     },
     "execution_count": 138,
     "metadata": {},
     "output_type": "execute_result"
    }
   ],
   "source": [
    "SUCC(TWO)"
   ]
  },
  {
   "cell_type": "code",
   "execution_count": 139,
   "id": "fa9c7683",
   "metadata": {},
   "outputs": [
    {
     "data": {
      "text/plain": [
       "3"
      ]
     },
     "execution_count": 139,
     "metadata": {},
     "output_type": "execute_result"
    }
   ],
   "source": [
    "_(incr)(0)"
   ]
  },
  {
   "cell_type": "code",
   "execution_count": 140,
   "id": "d3878da1",
   "metadata": {},
   "outputs": [],
   "source": [
    "ADD = lambda x : lambda y : y(SUCC)(x)"
   ]
  },
  {
   "cell_type": "code",
   "execution_count": 141,
   "id": "ac2f7ec5",
   "metadata": {},
   "outputs": [
    {
     "data": {
      "text/plain": [
       "<function __main__.<lambda>.<locals>.<lambda>(f)>"
      ]
     },
     "execution_count": 141,
     "metadata": {},
     "output_type": "execute_result"
    }
   ],
   "source": [
    "ADD(FOUR)(THREE)"
   ]
  },
  {
   "cell_type": "code",
   "execution_count": 142,
   "id": "4c66d12f",
   "metadata": {},
   "outputs": [
    {
     "data": {
      "text/plain": [
       "7"
      ]
     },
     "execution_count": 142,
     "metadata": {},
     "output_type": "execute_result"
    }
   ],
   "source": [
    "_(incr)(0)"
   ]
  },
  {
   "cell_type": "code",
   "execution_count": 143,
   "id": "e9c15dfb",
   "metadata": {},
   "outputs": [
    {
     "data": {
      "text/plain": [
       "<function __main__.<lambda>.<locals>.<lambda>(f)>"
      ]
     },
     "execution_count": 143,
     "metadata": {},
     "output_type": "execute_result"
    }
   ],
   "source": [
    "ADD(THREE)(THREE)"
   ]
  },
  {
   "cell_type": "code",
   "execution_count": 144,
   "id": "83329f65",
   "metadata": {},
   "outputs": [
    {
     "data": {
      "text/plain": [
       "6"
      ]
     },
     "execution_count": 144,
     "metadata": {},
     "output_type": "execute_result"
    }
   ],
   "source": [
    "_(incr)(0)"
   ]
  },
  {
   "cell_type": "code",
   "execution_count": 145,
   "id": "265c781c",
   "metadata": {},
   "outputs": [],
   "source": [
    "MUL = lambda x : lambda y : lambda f : y(x(f))"
   ]
  },
  {
   "cell_type": "code",
   "execution_count": 146,
   "id": "e939da81",
   "metadata": {},
   "outputs": [
    {
     "data": {
      "text/plain": [
       "<function __main__.<lambda>.<locals>.<lambda>.<locals>.<lambda>(f)>"
      ]
     },
     "execution_count": 146,
     "metadata": {},
     "output_type": "execute_result"
    }
   ],
   "source": [
    "MUL(THREE)(FOUR)"
   ]
  },
  {
   "cell_type": "code",
   "execution_count": 147,
   "id": "6e4a94a9",
   "metadata": {},
   "outputs": [
    {
     "data": {
      "text/plain": [
       "12"
      ]
     },
     "execution_count": 147,
     "metadata": {},
     "output_type": "execute_result"
    }
   ],
   "source": [
    "_(incr)(0)"
   ]
  },
  {
   "cell_type": "markdown",
   "id": "f1133c56",
   "metadata": {},
   "source": [
    "# α Conversion"
   ]
  },
  {
   "cell_type": "markdown",
   "id": "82fb6de6",
   "metadata": {},
   "source": [
    "- can rename an argument of the funciton\n",
    "- can't introduce a clash \n",
    "\n",
    "AND = λxy.xyx\n",
    "\n",
    "AND = λzy.zyz\n",
    "\n",
    "\n"
   ]
  },
  {
   "cell_type": "markdown",
   "id": "536c1cc0",
   "metadata": {},
   "source": [
    "# β  Reduction\n",
    "\n",
    "- can substitute arguments\n",
    "\n",
    "λxy.xyx(ab)  =>  λy.( ab )y( ab )\n",
    "\n",
    "\n",
    "---\n",
    "- can't introduce name clashes \n",
    "\n",
    "λxy.xyx(xy)\n",
    "\n",
    "```\n",
    "x ,y = 3 , 5\n",
    "\n",
    "def f(x,y):\n",
    "   return 2*x + y\n",
    "   \n",
    "```"
   ]
  },
  {
   "cell_type": "markdown",
   "id": "d6fa22a7",
   "metadata": {},
   "source": [
    "# Data Struct"
   ]
  },
  {
   "cell_type": "code",
   "execution_count": 164,
   "id": "a29b8646",
   "metadata": {},
   "outputs": [],
   "source": [
    "CONS = lambda a : lambda b : lambda s : s(a)(b)"
   ]
  },
  {
   "cell_type": "code",
   "execution_count": 165,
   "id": "7c7401f1",
   "metadata": {},
   "outputs": [],
   "source": [
    "p = CONS(THREE)(TWO)"
   ]
  },
  {
   "cell_type": "code",
   "execution_count": 174,
   "id": "ba7c03af",
   "metadata": {},
   "outputs": [],
   "source": [
    "CAR = lambda p : p(TRUE)\n",
    "CDR = lambda p : p(FALSE)"
   ]
  },
  {
   "cell_type": "code",
   "execution_count": 175,
   "id": "cc0c35bf",
   "metadata": {},
   "outputs": [
    {
     "data": {
      "text/plain": [
       "<function __main__.<lambda>(f)>"
      ]
     },
     "execution_count": 175,
     "metadata": {},
     "output_type": "execute_result"
    }
   ],
   "source": [
    "CAR(p)"
   ]
  },
  {
   "cell_type": "code",
   "execution_count": 176,
   "id": "5bee9490",
   "metadata": {},
   "outputs": [
    {
     "data": {
      "text/plain": [
       "3"
      ]
     },
     "execution_count": 176,
     "metadata": {},
     "output_type": "execute_result"
    }
   ],
   "source": [
    "_(incr)(0)"
   ]
  },
  {
   "cell_type": "code",
   "execution_count": 177,
   "id": "140c48f8",
   "metadata": {},
   "outputs": [
    {
     "data": {
      "text/plain": [
       "<function __main__.<lambda>(f)>"
      ]
     },
     "execution_count": 177,
     "metadata": {},
     "output_type": "execute_result"
    }
   ],
   "source": [
    "CDR(p)"
   ]
  },
  {
   "cell_type": "code",
   "execution_count": 178,
   "id": "0748897b",
   "metadata": {},
   "outputs": [
    {
     "data": {
      "text/plain": [
       "2"
      ]
     },
     "execution_count": 178,
     "metadata": {},
     "output_type": "execute_result"
    }
   ],
   "source": [
    "_(incr)(0)"
   ]
  },
  {
   "cell_type": "code",
   "execution_count": 253,
   "id": "29d55712",
   "metadata": {},
   "outputs": [],
   "source": [
    "## how to implement predecssor "
   ]
  },
  {
   "cell_type": "code",
   "execution_count": 254,
   "id": "d001be53",
   "metadata": {},
   "outputs": [],
   "source": [
    "#(0,0)\n",
    "#(1,0)\n",
    "#(2,1)\n",
    "#(2,2)\n",
    "#(3,3)\n",
    "\n",
    "def t(p):\n",
    "    return (p[0]+1, p[0])"
   ]
  },
  {
   "cell_type": "code",
   "execution_count": 256,
   "id": "b2d47d64",
   "metadata": {},
   "outputs": [
    {
     "data": {
      "text/plain": [
       "(3, 2)"
      ]
     },
     "execution_count": 256,
     "metadata": {},
     "output_type": "execute_result"
    }
   ],
   "source": [
    "THREE(t)((0,0))"
   ]
  },
  {
   "cell_type": "code",
   "execution_count": 259,
   "id": "ee05e29e",
   "metadata": {},
   "outputs": [],
   "source": [
    "T = lambda p : CONS(SUCC(CAR(p)))(CAR(p))"
   ]
  },
  {
   "cell_type": "code",
   "execution_count": 260,
   "id": "6bd8e103",
   "metadata": {},
   "outputs": [
    {
     "data": {
      "text/plain": [
       "<function __main__.<lambda>.<locals>.<lambda>.<locals>.<lambda>(s)>"
      ]
     },
     "execution_count": 260,
     "metadata": {},
     "output_type": "execute_result"
    }
   ],
   "source": [
    "FOUR(T)(CONS(ZERO)(ZERO))"
   ]
  },
  {
   "cell_type": "code",
   "execution_count": 261,
   "id": "398ef535",
   "metadata": {},
   "outputs": [],
   "source": [
    "a =_"
   ]
  },
  {
   "cell_type": "code",
   "execution_count": 262,
   "id": "087c0b3b",
   "metadata": {},
   "outputs": [
    {
     "data": {
      "text/plain": [
       "4"
      ]
     },
     "execution_count": 262,
     "metadata": {},
     "output_type": "execute_result"
    }
   ],
   "source": [
    "CAR(a)(incr)(0)"
   ]
  },
  {
   "cell_type": "code",
   "execution_count": 263,
   "id": "f9320dcb",
   "metadata": {},
   "outputs": [
    {
     "data": {
      "text/plain": [
       "3"
      ]
     },
     "execution_count": 263,
     "metadata": {},
     "output_type": "execute_result"
    }
   ],
   "source": [
    "CDR(a)(incr)(0)"
   ]
  },
  {
   "cell_type": "code",
   "execution_count": 269,
   "id": "9b9c754d",
   "metadata": {},
   "outputs": [],
   "source": [
    "\n",
    "PRED = lambda n : CDR(n(T)(CONS(ZERO)(ZERO)))"
   ]
  },
  {
   "cell_type": "code",
   "execution_count": 270,
   "id": "802d9588",
   "metadata": {},
   "outputs": [
    {
     "data": {
      "text/plain": [
       "<function __main__.<lambda>(f)>"
      ]
     },
     "execution_count": 270,
     "metadata": {},
     "output_type": "execute_result"
    }
   ],
   "source": [
    "FOUR "
   ]
  },
  {
   "cell_type": "code",
   "execution_count": 271,
   "id": "1ce2cacf",
   "metadata": {},
   "outputs": [
    {
     "data": {
      "text/plain": [
       "<function __main__.<lambda>.<locals>.<lambda>(f)>"
      ]
     },
     "execution_count": 271,
     "metadata": {},
     "output_type": "execute_result"
    }
   ],
   "source": [
    "PRED(FOUR)"
   ]
  },
  {
   "cell_type": "code",
   "execution_count": 272,
   "id": "4ee2b458",
   "metadata": {},
   "outputs": [
    {
     "data": {
      "text/plain": [
       "3"
      ]
     },
     "execution_count": 272,
     "metadata": {},
     "output_type": "execute_result"
    }
   ],
   "source": [
    "_(incr)(0)"
   ]
  },
  {
   "cell_type": "code",
   "execution_count": null,
   "id": "73ceb2f0",
   "metadata": {},
   "outputs": [],
   "source": []
  },
  {
   "cell_type": "markdown",
   "id": "88a1cdc4",
   "metadata": {},
   "source": [
    "## Other Functions"
   ]
  },
  {
   "cell_type": "code",
   "execution_count": 282,
   "id": "278cc7cf",
   "metadata": {},
   "outputs": [],
   "source": [
    "ZERO = lambda f : lambda x : x\n",
    "TWO  = lambda f : lambda x : f(f(x))"
   ]
  },
  {
   "cell_type": "code",
   "execution_count": 236,
   "id": "02f24517",
   "metadata": {},
   "outputs": [],
   "source": [
    "ISZERO = lambda n : n(lambda g : FALSE)(TRUE)"
   ]
  },
  {
   "cell_type": "code",
   "execution_count": 249,
   "id": "4cf77fa0",
   "metadata": {},
   "outputs": [],
   "source": [
    "TRUE = lambda true : lambda x : true\n",
    "FALSE = lambda false : lambda x : x\n",
    "\n",
    "# bit hack to understand whats happening "
   ]
  },
  {
   "cell_type": "code",
   "execution_count": 250,
   "id": "caec95b5",
   "metadata": {},
   "outputs": [
    {
     "data": {
      "text/plain": [
       "<function __main__.<lambda>(true)>"
      ]
     },
     "execution_count": 250,
     "metadata": {},
     "output_type": "execute_result"
    }
   ],
   "source": [
    "ZERO(lambda g :  FALSE)(TRUE)"
   ]
  },
  {
   "cell_type": "code",
   "execution_count": 251,
   "id": "21e5a785",
   "metadata": {},
   "outputs": [
    {
     "data": {
      "text/plain": [
       "<function __main__.<lambda>(false)>"
      ]
     },
     "execution_count": 251,
     "metadata": {},
     "output_type": "execute_result"
    }
   ],
   "source": [
    "TWO(lambda g : FALSE )(TRUE)"
   ]
  },
  {
   "cell_type": "code",
   "execution_count": 252,
   "id": "0f21dde5",
   "metadata": {},
   "outputs": [
    {
     "data": {
      "text/plain": [
       "<function __main__.<lambda>(true)>"
      ]
     },
     "execution_count": 252,
     "metadata": {},
     "output_type": "execute_result"
    }
   ],
   "source": [
    "(lambda g : FALSE )(TRUE)(lambda g : FALSE )(TRUE)"
   ]
  },
  {
   "cell_type": "markdown",
   "id": "036b0214",
   "metadata": {},
   "source": [
    "### factorial"
   ]
  },
  {
   "cell_type": "code",
   "execution_count": 276,
   "id": "189bc280",
   "metadata": {},
   "outputs": [],
   "source": [
    "FACT = lambda n: ISZERO(n) \\\n",
    "                (ONE) \\\n",
    "                (MUL(n)(FACT(PRED(n))))"
   ]
  },
  {
   "cell_type": "code",
   "execution_count": 283,
   "id": "8bf1e46c",
   "metadata": {},
   "outputs": [
    {
     "ename": "RecursionError",
     "evalue": "maximum recursion depth exceeded",
     "output_type": "error",
     "traceback": [
      "\u001b[0;31m---------------------------------------------------------------------------\u001b[0m",
      "\u001b[0;31mRecursionError\u001b[0m                            Traceback (most recent call last)",
      "Cell \u001b[0;32mIn[283], line 1\u001b[0m\n\u001b[0;32m----> 1\u001b[0m \u001b[43mFACT\u001b[49m\u001b[43m(\u001b[49m\u001b[43mTHREE\u001b[49m\u001b[43m)\u001b[49m\n",
      "Cell \u001b[0;32mIn[280], line 3\u001b[0m, in \u001b[0;36m<lambda>\u001b[0;34m(n)\u001b[0m\n\u001b[1;32m      1\u001b[0m FACT \u001b[38;5;241m=\u001b[39m \u001b[38;5;28;01mlambda\u001b[39;00m n: ISZERO_LAZY(n) \\\n\u001b[1;32m      2\u001b[0m                 (ONE) \\\n\u001b[0;32m----> 3\u001b[0m                 (MUL(n)(\u001b[43mFACT\u001b[49m\u001b[43m(\u001b[49m\u001b[43mPRED\u001b[49m\u001b[43m(\u001b[49m\u001b[43mn\u001b[49m\u001b[43m)\u001b[49m\u001b[43m)\u001b[49m))\n",
      "Cell \u001b[0;32mIn[280], line 3\u001b[0m, in \u001b[0;36m<lambda>\u001b[0;34m(n)\u001b[0m\n\u001b[1;32m      1\u001b[0m FACT \u001b[38;5;241m=\u001b[39m \u001b[38;5;28;01mlambda\u001b[39;00m n: ISZERO_LAZY(n) \\\n\u001b[1;32m      2\u001b[0m                 (ONE) \\\n\u001b[0;32m----> 3\u001b[0m                 (MUL(n)(\u001b[43mFACT\u001b[49m\u001b[43m(\u001b[49m\u001b[43mPRED\u001b[49m\u001b[43m(\u001b[49m\u001b[43mn\u001b[49m\u001b[43m)\u001b[49m\u001b[43m)\u001b[49m))\n",
      "    \u001b[0;31m[... skipping similar frames: <lambda> at line 3 (2967 times)]\u001b[0m\n",
      "Cell \u001b[0;32mIn[280], line 3\u001b[0m, in \u001b[0;36m<lambda>\u001b[0;34m(n)\u001b[0m\n\u001b[1;32m      1\u001b[0m FACT \u001b[38;5;241m=\u001b[39m \u001b[38;5;28;01mlambda\u001b[39;00m n: ISZERO_LAZY(n) \\\n\u001b[1;32m      2\u001b[0m                 (ONE) \\\n\u001b[0;32m----> 3\u001b[0m                 (MUL(n)(FACT(\u001b[43mPRED\u001b[49m\u001b[43m(\u001b[49m\u001b[43mn\u001b[49m\u001b[43m)\u001b[49m)))\n",
      "Cell \u001b[0;32mIn[269], line 1\u001b[0m, in \u001b[0;36m<lambda>\u001b[0;34m(n)\u001b[0m\n\u001b[0;32m----> 1\u001b[0m PRED \u001b[38;5;241m=\u001b[39m \u001b[38;5;28;01mlambda\u001b[39;00m n : \u001b[43mCDR\u001b[49m\u001b[43m(\u001b[49m\u001b[43mn\u001b[49m\u001b[43m(\u001b[49m\u001b[43mT\u001b[49m\u001b[43m)\u001b[49m\u001b[43m(\u001b[49m\u001b[43mCONS\u001b[49m\u001b[43m(\u001b[49m\u001b[43mZERO\u001b[49m\u001b[43m)\u001b[49m\u001b[43m(\u001b[49m\u001b[43mZERO\u001b[49m\u001b[43m)\u001b[49m\u001b[43m)\u001b[49m\u001b[43m)\u001b[49m\n",
      "Cell \u001b[0;32mIn[174], line 2\u001b[0m, in \u001b[0;36m<lambda>\u001b[0;34m(p)\u001b[0m\n\u001b[1;32m      1\u001b[0m CAR \u001b[38;5;241m=\u001b[39m \u001b[38;5;28;01mlambda\u001b[39;00m p : p(TRUE)\n\u001b[0;32m----> 2\u001b[0m CDR \u001b[38;5;241m=\u001b[39m \u001b[38;5;28;01mlambda\u001b[39;00m p : \u001b[43mp\u001b[49m\u001b[43m(\u001b[49m\u001b[43mFALSE\u001b[49m\u001b[43m)\u001b[49m\n",
      "Cell \u001b[0;32mIn[164], line 1\u001b[0m, in \u001b[0;36m<lambda>\u001b[0;34m(s)\u001b[0m\n\u001b[0;32m----> 1\u001b[0m CONS \u001b[38;5;241m=\u001b[39m \u001b[38;5;28;01mlambda\u001b[39;00m a : \u001b[38;5;28;01mlambda\u001b[39;00m b : \u001b[38;5;28;01mlambda\u001b[39;00m s : \u001b[43ms\u001b[49m\u001b[43m(\u001b[49m\u001b[43ma\u001b[49m\u001b[43m)\u001b[49m(b)\n",
      "\u001b[0;31mRecursionError\u001b[0m: maximum recursion depth exceeded"
     ]
    }
   ],
   "source": [
    "FACT(THREE)"
   ]
  },
  {
   "cell_type": "code",
   "execution_count": 279,
   "id": "049789c5",
   "metadata": {},
   "outputs": [],
   "source": [
    "TRUE_LAZY   = lambda x : lambda y : x()\n",
    "FALSE_LAZY  = lambda x : lambda y : y()\n",
    "ISZERO_LAZY = lambda n : n(lambda g : FALSE_LAZY)(TRUE_LAZY)"
   ]
  },
  {
   "cell_type": "code",
   "execution_count": 288,
   "id": "a0c97f69",
   "metadata": {},
   "outputs": [],
   "source": [
    "FACT = lambda n: ISZERO_LAZY(n) \\\n",
    "                (lambda: ONE) \\\n",
    "                (lambda: MUL(n)(FACT(PRED(n))))"
   ]
  },
  {
   "cell_type": "code",
   "execution_count": 289,
   "id": "49c70fcd",
   "metadata": {},
   "outputs": [
    {
     "data": {
      "text/plain": [
       "<function __main__.<lambda>.<locals>.<lambda>.<locals>.<lambda>(f)>"
      ]
     },
     "execution_count": 289,
     "metadata": {},
     "output_type": "execute_result"
    }
   ],
   "source": [
    "FACT(THREE)"
   ]
  },
  {
   "cell_type": "code",
   "execution_count": 290,
   "id": "4760b14a",
   "metadata": {},
   "outputs": [
    {
     "data": {
      "text/plain": [
       "6"
      ]
     },
     "execution_count": 290,
     "metadata": {},
     "output_type": "execute_result"
    }
   ],
   "source": [
    "_(incr)(0)"
   ]
  },
  {
   "cell_type": "code",
   "execution_count": null,
   "id": "08f8379c",
   "metadata": {},
   "outputs": [],
   "source": []
  }
 ],
 "metadata": {
  "kernelspec": {
   "display_name": "Python 3 (ipykernel)",
   "language": "python",
   "name": "python3"
  },
  "language_info": {
   "codemirror_mode": {
    "name": "ipython",
    "version": 3
   },
   "file_extension": ".py",
   "mimetype": "text/x-python",
   "name": "python",
   "nbconvert_exporter": "python",
   "pygments_lexer": "ipython3",
   "version": "3.10.9"
  }
 },
 "nbformat": 4,
 "nbformat_minor": 5
}
